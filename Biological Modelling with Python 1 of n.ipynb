{
 "cells": [
  {
   "cell_type": "markdown",
   "metadata": {},
   "source": [
    "## Introduction to mathematical modelling of biological systems with Python\n",
    "Dr. Anna Matuszyńska\n",
    "\n",
    "<img src=\"https://www.python.org/static/community_logos/python-logo-master-v3-TM.png\" alt=\"drawing\" style=\"width: 200px;\"/>\n",
    "\n",
    "#### Teaching materials based on:\n",
    "- [Programiz: How to Get Started With Python?](https://www.programiz.com/python-programming/first-program)\n",
    "- [https://waterprogramming.wordpress.com/2018/02/12/plotting-trajectories-and-direction-fields-for-a-system-of-odes-in-python/](https://waterprogramming.wordpress.com/2018/02/12/plotting-trajectories-and-direction-fields-for-a-system-of-odes-in-python/)\n",
    "- [SciPy Cookbook: LoktaVolterraTutorial](http://scipy-cookbook.readthedocs.io/items/LoktaVolterraTutorial.html)\n",
    "\n",
    "Python is a **cross-platform, open source interpreted high-level programming language** for general-purpose programming. It was created by Dutch programmer Guido van Rossum and first released in 1991. Python is continuously developed by the community, but Guido with his **Benevolent Dictator For Life** (BDFL) title maintains the final say in the direction of development. \n",
    "\n",
    "The language's name is a tribute to the British comedy group Monty Python. To keep the comedy spirit it is an important goal of Python's developers to keep it fun to use. You will find numerous tutorials and reference materials where intead of using standard *foo* and *bar* you will be reffered to spam and eggs from the famous Monty Python sketch embedded below.\n",
    "\n",
    "[![IMAGE ALT TEXT HERE](https://img.youtube.com/vi/anwy2MPT5RE/0.jpg)](https://youtu.be/anwy2MPT5RE)\n",
    "\n",
    "\n",
    "Let's start with getting familiar with the key words. Make sure that you know how to use them"
   ]
  },
  {
   "cell_type": "code",
   "execution_count": null,
   "metadata": {},
   "outputs": [],
   "source": []
  },
  {
   "cell_type": "markdown",
   "metadata": {},
   "source": [
    "Python has a design philosophy that emphasizes code readability and provides constructs that enable clear programming on both small and large scales. The language's core philosophy is summarised in the document The Zen of Python. Why not to start learning Python through it? Just import this."
   ]
  },
  {
   "cell_type": "code",
   "execution_count": null,
   "metadata": {},
   "outputs": [],
   "source": []
  },
  {
   "cell_type": "markdown",
   "metadata": {},
   "source": [
    "<span style=\"color:red\">Throughout this course we will try to keep those aphorisms in mind and programme in a beautiful, explicit and simple way.</span>."
   ]
  },
  {
   "cell_type": "code",
   "execution_count": null,
   "metadata": {},
   "outputs": [],
   "source": []
  },
  {
   "cell_type": "markdown",
   "metadata": {},
   "source": [
    "## The Fibonacci numbers\n",
    "The Fibonacci numbers, also called the Fibonacci sequence, are characterised by the fact that every number after the first two is the sum of the two preceding ones:\n",
    "\n",
    "$ \\displaystyle \\;0,\\;1\\;1,\\;2,\\;3,\\;5,\\;8,\\;13,\\;21,\\;34,\\;55,\\;89,\\;144,\\;\\ldots$\n",
    "\n",
    "By definition, the first two numbers in the Fibonacci sequence are 0 and 1, and each subsequent number is the sum of the previous two.\n",
    "\n",
    "The sequence $F_n$ of Fibonacci numbers is defined by the recurrence relation:\n",
    "\n",
    "$F_{n}=F_{n-1}+F_{n-2},$\n",
    "\n",
    "with seed values\n",
    "$F_{0}=0,\\;F_{1}=1.$\n",
    "\n",
    "### Exercise 1\n",
    "Explore the functions! Write your own function to calculate recursively the *n-th* Fibonacci number."
   ]
  },
  {
   "cell_type": "code",
   "execution_count": null,
   "metadata": {},
   "outputs": [],
   "source": []
  },
  {
   "cell_type": "code",
   "execution_count": null,
   "metadata": {},
   "outputs": [],
   "source": []
  },
  {
   "cell_type": "markdown",
   "metadata": {},
   "source": [
    "### Exercise 2\n",
    "Write a function to return the whole Fibonacci sequence (not just one number) to the *n-th* position."
   ]
  },
  {
   "cell_type": "code",
   "execution_count": null,
   "metadata": {},
   "outputs": [],
   "source": []
  },
  {
   "cell_type": "markdown",
   "metadata": {},
   "source": [
    "# Ordinary Differential Equation (ODE)\n"
   ]
  },
  {
   "cell_type": "markdown",
   "metadata": {},
   "source": [
    "## How the solver works\n",
    "by Marvin van Aalst\n",
    "\n",
    "The Euler method is a first-order numerical procedure for solving **ordinary differential equations** with a given initial value. It is the most basic explicit method for numerical integration of ODE, named after a swiss scientist Leonhard Euler. The Euler method is a first-order method, which means that the error per step (**local error**)is proportional to the square of the step size, and the error at a given time (**global error**) is proportional to the step size.\n",
    "\n",
    "Given the initial starting point the Euler method estimates the value of a function\n",
    "$$\n",
    "\\displaystyle y_{n+1}=y_{n}+hf(t_{n},y_{n})$$\n",
    "\n",
    "where $h$ is is the step size."
   ]
  },
  {
   "cell_type": "code",
   "execution_count": null,
   "metadata": {},
   "outputs": [],
   "source": []
  },
  {
   "cell_type": "markdown",
   "metadata": {},
   "source": [
    "Define simple function. E.g.,\n",
    "$$\n",
    "\\dot x= 0.5x\n",
    "$$"
   ]
  },
  {
   "cell_type": "code",
   "execution_count": null,
   "metadata": {},
   "outputs": [],
   "source": []
  },
  {
   "cell_type": "markdown",
   "metadata": {},
   "source": [
    "### Exercise\n",
    "Plot the solution of the integration using Euler vs. original function"
   ]
  },
  {
   "cell_type": "code",
   "execution_count": null,
   "metadata": {},
   "outputs": [],
   "source": []
  },
  {
   "cell_type": "markdown",
   "metadata": {},
   "source": [
    "Start with importing the standard library with integration methods, called ```scipy.integrate```."
   ]
  },
  {
   "cell_type": "code",
   "execution_count": null,
   "metadata": {},
   "outputs": [],
   "source": []
  },
  {
   "cell_type": "markdown",
   "metadata": {},
   "source": [
    "Define new function that uses euler method to find the solution at the next integration step and investigate the impact of the integration step size on the accuracy of the solution."
   ]
  },
  {
   "cell_type": "code",
   "execution_count": null,
   "metadata": {},
   "outputs": [],
   "source": []
  },
  {
   "cell_type": "markdown",
   "metadata": {},
   "source": [
    "## The Lotka–Volterra equations\n",
    "Also known as the predator–prey equations, are a pair of first-order nonlinear differential equations, frequently used to describe the dynamics of biological systems in which two species interact, one as a predator and the other as prey. The populations change through time according to the pair of equations:\n",
    "\n",
    "The instantaneous growth rates of the two populations are described by following equations:\n",
    "$$\n",
    "\\displaystyle {\\begin{aligned}{\\frac {dx}{dt}}&=\\alpha x-\\beta xy,\\\\{\\frac {dy}{dt}}&=\\delta xy-\\gamma y,\\end{aligned}}\n",
    "$$\n",
    "where\n",
    "- x is the number of preys,\n",
    "- y is the number of some predators,\n",
    "- t represents time,\n",
    "- α, β, γ, δ are constant parameters describing the behavior of the population\n",
    "  - α is the natural growing rate of preys, when there's no predator\n",
    "  - β is the natural dying rate of preys, due to predation\n",
    "  - γ is the natural dying rate of predators, when there's no prey\n",
    "  - δ is the factor describing growth rate of predator that depends on the number of available preys."
   ]
  },
  {
   "cell_type": "markdown",
   "metadata": {},
   "source": [
    "### Exercise 3\n",
    "Define the function called *lotkavoltera* that will return the growth rates of both species"
   ]
  },
  {
   "cell_type": "code",
   "execution_count": null,
   "metadata": {},
   "outputs": [],
   "source": []
  },
  {
   "cell_type": "markdown",
   "metadata": {},
   "source": [
    "### Exercise 4\n",
    "Find the population size after given period of time. In other words, integrate the systemn over the time. To solve the system we can use one of many build i-in solvers of the SciPy library. The recommended one for easy solutions is ```odeint```. Import the library and investigate the definition of the ```scipy.integrate.odeint??```"
   ]
  },
  {
   "cell_type": "markdown",
   "metadata": {},
   "source": [
    "Import the scipy.integrate module"
   ]
  },
  {
   "cell_type": "code",
   "execution_count": null,
   "metadata": {},
   "outputs": [],
   "source": []
  },
  {
   "cell_type": "markdown",
   "metadata": {},
   "source": [
    "Define the time vector for the integration"
   ]
  },
  {
   "cell_type": "code",
   "execution_count": null,
   "metadata": {},
   "outputs": [],
   "source": []
  },
  {
   "cell_type": "markdown",
   "metadata": {},
   "source": [
    "Define the initial conditions and parameters space"
   ]
  },
  {
   "cell_type": "code",
   "execution_count": null,
   "metadata": {},
   "outputs": [],
   "source": []
  },
  {
   "cell_type": "markdown",
   "metadata": {},
   "source": [
    "Run the simulations and store the results in ```Y``` object"
   ]
  },
  {
   "cell_type": "code",
   "execution_count": null,
   "metadata": {},
   "outputs": [],
   "source": []
  },
  {
   "cell_type": "markdown",
   "metadata": {},
   "source": [
    "Plot the solutions over the time. Remember that the good graph need axis labels and a legend "
   ]
  },
  {
   "cell_type": "code",
   "execution_count": null,
   "metadata": {},
   "outputs": [],
   "source": []
  },
  {
   "cell_type": "markdown",
   "metadata": {},
   "source": [
    "### Exercise 5\n",
    "For certain parameters you can find that the populations oscillate. Find a set of such parameters and display the results graphically."
   ]
  },
  {
   "cell_type": "code",
   "execution_count": null,
   "metadata": {
    "scrolled": true
   },
   "outputs": [],
   "source": []
  },
  {
   "cell_type": "markdown",
   "metadata": {},
   "source": [
    "### Exercise 6\n",
    "Investigate the stationary states of the system, defined by $\\dot x = 0$. This system has **2** equilibria: when both species are dead and when predators and preys coexist in a non-trivial equilibrium. Define the equilibrium point, plot the trajectories and direction fields for the system. Before starting find out if there is a plotting function prepared to plot a 2-D field of arrows that you can use.\n",
    "\n",
    "Define equilibrium point"
   ]
  },
  {
   "cell_type": "code",
   "execution_count": null,
   "metadata": {},
   "outputs": [],
   "source": []
  },
  {
   "cell_type": "markdown",
   "metadata": {},
   "source": [
    "#### Plot trajectories by looping through the possible values\n",
    "\n",
    "Plot 10 trajectories where the initial values will range from 1 to 10"
   ]
  },
  {
   "cell_type": "code",
   "execution_count": null,
   "metadata": {},
   "outputs": [],
   "source": []
  },
  {
   "cell_type": "markdown",
   "metadata": {},
   "source": [
    "For clarity, while plotting each trajectory, use a different colour. You can use for that the ```vcolors``` defined below"
   ]
  },
  {
   "cell_type": "code",
   "execution_count": null,
   "metadata": {},
   "outputs": [],
   "source": []
  },
  {
   "cell_type": "markdown",
   "metadata": {},
   "source": [
    "Create a figure. You will need the limits of the x and y-axis of the trajectory graph to define the grid to compute the direction at each point and plot the direction fields."
   ]
  },
  {
   "cell_type": "code",
   "execution_count": null,
   "metadata": {},
   "outputs": [],
   "source": []
  },
  {
   "cell_type": "markdown",
   "metadata": {},
   "source": [
    "Define the grid to compute the direction at each point and plot the direction fields. Use the ```meshgrid``` function.\n",
    "Set the limits of the phase plot by getting the limits of trajectory plot and define number of points for x and y ranges."
   ]
  },
  {
   "cell_type": "code",
   "execution_count": null,
   "metadata": {},
   "outputs": [],
   "source": []
  },
  {
   "cell_type": "markdown",
   "metadata": {},
   "source": [
    "Create meshgrid"
   ]
  },
  {
   "cell_type": "code",
   "execution_count": null,
   "metadata": {},
   "outputs": [],
   "source": []
  },
  {
   "cell_type": "markdown",
   "metadata": {},
   "source": [
    "Calculate growth rate at each grid point"
   ]
  },
  {
   "cell_type": "code",
   "execution_count": null,
   "metadata": {},
   "outputs": [],
   "source": []
  },
  {
   "cell_type": "markdown",
   "metadata": {},
   "source": [
    "Direction at each grid point is the hypotenuse of the prey direction and the predator direction."
   ]
  },
  {
   "cell_type": "code",
   "execution_count": null,
   "metadata": {},
   "outputs": [],
   "source": []
  },
  {
   "cell_type": "markdown",
   "metadata": {},
   "source": [
    "Using the quiver function, plot the field of arrows using DX1 and DY1 for direction and M for speed. Remember about labels, title and legend."
   ]
  },
  {
   "cell_type": "code",
   "execution_count": null,
   "metadata": {},
   "outputs": [],
   "source": []
  },
  {
   "cell_type": "markdown",
   "metadata": {},
   "source": [
    "### Exercise 7\n",
    "Find how the parameter combination affects the system. Can we produce limit cycles in our system? i.e. reduce the available resources to the prey, and see how the trajectories look like."
   ]
  },
  {
   "cell_type": "code",
   "execution_count": null,
   "metadata": {},
   "outputs": [],
   "source": []
  },
  {
   "cell_type": "markdown",
   "metadata": {},
   "source": [
    "## Analysis of the modified Verhulst equation\n",
    "The modified Verhulst equation reads\n",
    "$$\\begin{equation}\n",
    "\\dot x = rx(\\frac{g}{r}\\frac{x}{x+c}-\\frac{d}{r}-\\frac{x}{K})\n",
    "\\end{equation}$$\n",
    "Here, \n",
    "-g is the growth rate constant, \n",
    "- d the death rate constant,\n",
    "- r = g − d,\n",
    "- K denotes the capacity of the environment,\n",
    "- c is a parameter governing the population behaviour at low densities.\n",
    "\n",
    "### Home work\n",
    "- Integrate the system over a given period of time (t=1000), \n",
    "- find stationary states, \n",
    "- plot the phase plot, \n",
    "- look how parameters affect the solution."
   ]
  },
  {
   "cell_type": "code",
   "execution_count": null,
   "metadata": {},
   "outputs": [],
   "source": []
  }
 ],
 "metadata": {
  "kernelspec": {
   "display_name": "Python 3",
   "language": "python",
   "name": "python3"
  },
  "language_info": {
   "codemirror_mode": {
    "name": "ipython",
    "version": 3
   },
   "file_extension": ".py",
   "mimetype": "text/x-python",
   "name": "python",
   "nbconvert_exporter": "python",
   "pygments_lexer": "ipython3",
   "version": "3.6.5"
  }
 },
 "nbformat": 4,
 "nbformat_minor": 2
}
